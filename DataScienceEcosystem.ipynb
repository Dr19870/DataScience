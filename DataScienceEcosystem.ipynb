{
 "cells": [
  {
   "cell_type": "markdown",
   "id": "0393cffa",
   "metadata": {},
   "source": [
    "# Data Science Tools and Ecosystem"
   ]
  },
  {
   "cell_type": "markdown",
   "id": "552cbc52",
   "metadata": {},
   "source": [
    "In this notebook, Data Science Tools and Ecosystem are summarized."
   ]
  },
  {
   "cell_type": "markdown",
   "id": "841501f5",
   "metadata": {},
   "source": [
    "Some of the popular languages that Data Scientists use are:\n",
    "1. R \n",
    "2. Python\n",
    "3. SQL"
   ]
  },
  {
   "cell_type": "markdown",
   "id": "e8ad700e",
   "metadata": {},
   "source": [
    "Some of the commonly used libraries used by Data Scientists include:\n",
    "1. NumPy\n",
    "2. Pandas\n",
    "3. SciPy\n",
    "4. ggplo2"
   ]
  },
  {
   "cell_type": "markdown",
   "id": "6f775141",
   "metadata": {},
   "source": [
    "|Data Science Tools|\n",
    "|:-|\n",
    "Google Colab\n",
    "R Studio\n",
    "JupyterLab"
   ]
  },
  {
   "cell_type": "markdown",
   "id": "51509342",
   "metadata": {},
   "source": [
    "### Below are a few examples of evaluating arithmetic expressions in Python\n"
   ]
  },
  {
   "cell_type": "code",
   "execution_count": 3,
   "id": "25bb8d0d",
   "metadata": {},
   "outputs": [
    {
     "data": {
      "text/plain": [
       "17"
      ]
     },
     "execution_count": 3,
     "metadata": {},
     "output_type": "execute_result"
    }
   ],
   "source": [
    "#This a simple arithmetic expression to mutiply then add integers\n",
    "(3*4)+5"
   ]
  },
  {
   "cell_type": "code",
   "execution_count": 4,
   "id": "a2afe26b",
   "metadata": {},
   "outputs": [
    {
     "data": {
      "text/plain": [
       "3.3333333333333335"
      ]
     },
     "execution_count": 4,
     "metadata": {},
     "output_type": "execute_result"
    }
   ],
   "source": [
    "#This will convert 200 minutes to hours by diving by 60\n",
    "def minutes_to_hours(minutes):\n",
    "    # divide minutes by 60 to get hours\n",
    "    hours = minutes / 60\n",
    "    # return the result\n",
    "    return hours\n",
    "minutes_to_hours(200)"
   ]
  },
  {
   "cell_type": "markdown",
   "id": "87332c14",
   "metadata": {},
   "source": [
    "**Objectives:**\n",
    "* Creating a markdown cell to list data science libraries\n",
    "* Listing popular languages for Data Science\n",
    "* Creating a markdown cell introducing arithmetic expression examples\n",
    "* Creating a code cell to multiply and add numbers\n",
    "* Creating a code cell to convert minutes to hours"
   ]
  },
  {
   "cell_type": "markdown",
   "id": "c745f618",
   "metadata": {},
   "source": [
    "## Author \n",
    " Ibrahim Matar"
   ]
  }
 ],
 "metadata": {
  "kernelspec": {
   "display_name": "Python 3 (ipykernel)",
   "language": "python",
   "name": "python3"
  },
  "language_info": {
   "codemirror_mode": {
    "name": "ipython",
    "version": 3
   },
   "file_extension": ".py",
   "mimetype": "text/x-python",
   "name": "python",
   "nbconvert_exporter": "python",
   "pygments_lexer": "ipython3",
   "version": "3.11.5"
  }
 },
 "nbformat": 4,
 "nbformat_minor": 5
}
